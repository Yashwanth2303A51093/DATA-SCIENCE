{
  "nbformat": 4,
  "nbformat_minor": 0,
  "metadata": {
    "colab": {
      "provenance": [],
      "authorship_tag": "ABX9TyNzU6QZucRAV4GXifgfDpGS",
      "include_colab_link": true
    },
    "kernelspec": {
      "name": "python3",
      "display_name": "Python 3"
    },
    "language_info": {
      "name": "python"
    }
  },
  "cells": [
    {
      "cell_type": "markdown",
      "metadata": {
        "id": "view-in-github",
        "colab_type": "text"
      },
      "source": [
        "<a href=\"https://colab.research.google.com/github/Yashwanth2303A51093/DATA-SCIENCE/blob/main/lab1_1093.ipynb\" target=\"_parent\"><img src=\"https://colab.research.google.com/assets/colab-badge.svg\" alt=\"Open In Colab\"/></a>"
      ]
    },
    {
      "cell_type": "code",
      "execution_count": 1,
      "metadata": {
        "colab": {
          "base_uri": "https://localhost:8080/"
        },
        "id": "M_c5oLm6Tflw",
        "outputId": "a5ed9900-40ff-4974-cde2-fdc036d86b35"
      },
      "outputs": [
        {
          "output_type": "stream",
          "name": "stdout",
          "text": [
            "Enter a number (≤ 10): 2\n",
            "\n",
            "Tracing recursive calls:\n",
            "\n",
            "Call: factorial(2)\n",
            "  Call: factorial(1)\n",
            "  Return: 1 (base case)\n",
            "Return: 2\n",
            "\n",
            "Final Result: factorial(2) = 2\n"
          ]
        }
      ],
      "source": [
        "\n",
        "def factorial(n, depth=0):\n",
        "    indent = \"  \" * depth\n",
        "    print(f\"{indent}Call: factorial({n})\")\n",
        "    if n == 0 or n == 1:\n",
        "        print(f\"{indent}Return: 1 (base case)\")\n",
        "        return 1\n",
        "    else:\n",
        "        result = n * factorial(n - 1, depth + 1)\n",
        "        print(f\"{indent}Return: {result}\")\n",
        "        return result\n",
        "\n",
        "n = int(input(\"Enter a number (≤ 10): \"))\n",
        "if n <= 10:\n",
        "    print(\"\\nTracing recursive calls:\\n\")\n",
        "    fact = factorial(n)\n",
        "    print(f\"\\nFinal Result: factorial({n}) = {fact}\")\n",
        "else:\n",
        "    print(\"Please enter a number ≤ 10\")"
      ]
    },
    {
      "cell_type": "code",
      "source": [
        "import time\n",
        "import sys\n",
        "import pandas as pd\n",
        "\n",
        "def factorial_recursive(n):\n",
        "    if n == 0 or n == 1:\n",
        "        return 1\n",
        "    return n * factorial_recursive(n - 1)\n",
        "\n",
        "def factorial_iterative(n):\n",
        "    result = 1\n",
        "    for i in range(2, n + 1):\n",
        "        result *= i\n",
        "    return result\n",
        "\n",
        "def measure_performance(n):\n",
        "    start = time.time()\n",
        "    recursive_result = factorial_recursive(n)\n",
        "    recursive_time = time.time() - start\n",
        "    recursive_memory = sys.getsizeof(recursive_result)\n",
        "\n",
        "    start = time.time()\n",
        "    iterative_result = factorial_iterative(n)\n",
        "    iterative_time = time.time() - start\n",
        "    iterative_memory = sys.getsizeof(iterative_result)\n",
        "\n",
        "    return {\n",
        "        \"n\": n,\n",
        "        \"Recursive Result\": recursive_result,\n",
        "        \"Iterative Result\": iterative_result,\n",
        "        \"Recursive Time\": recursive_time,\n",
        "        \"Iterative Time\": iterative_time,\n",
        "        \"Recursive Memory\": recursive_memory,\n",
        "        \"Iterative Memory\": iterative_memory\n",
        "    }\n",
        "\n",
        "n_values = [5, 10, 50, 100, 200]\n",
        "results = [measure_performance(n) for n in n_values]\n",
        "\n",
        "df = pd.DataFrame(results)\n",
        "print(df)\n",
        "\n",
        "print(\"\\nTime Complexity: Recursive = O(n), Iterative = O(n)\")\n",
        "print(\"Space Complexity: Recursive = O(n) (due to call stack), Iterative = O(1)\")"
      ],
      "metadata": {
        "colab": {
          "base_uri": "https://localhost:8080/"
        },
        "id": "FVrk26IrULIB",
        "outputId": "16c5965d-5fa2-4dec-e9f4-6ef1789bdf65"
      },
      "execution_count": 5,
      "outputs": [
        {
          "output_type": "stream",
          "name": "stdout",
          "text": [
            "     n                                   Recursive Result  \\\n",
            "0    5                                                120   \n",
            "1   10                                            3628800   \n",
            "2   50  3041409320171337804361260816606476884437764156...   \n",
            "3  100  9332621544394415268169923885626670049071596826...   \n",
            "4  200  7886578673647905035523632139321850622951359776...   \n",
            "\n",
            "                                    Iterative Result  Recursive Time  \\\n",
            "0                                                120        0.000003   \n",
            "1                                            3628800        0.000001   \n",
            "2  3041409320171337804361260816606476884437764156...        0.000006   \n",
            "3  9332621544394415268169923885626670049071596826...        0.000013   \n",
            "4  7886578673647905035523632139321850622951359776...        0.000077   \n",
            "\n",
            "   Iterative Time  Recursive Memory  Iterative Memory  \n",
            "0        0.000002                28                28  \n",
            "1        0.000002                28                28  \n",
            "2        0.000004                56                56  \n",
            "3        0.000008                96                96  \n",
            "4        0.000018               192               192  \n",
            "\n",
            "Time Complexity: Recursive = O(n), Iterative = O(n)\n",
            "Space Complexity: Recursive = O(n) (due to call stack), Iterative = O(1)\n"
          ]
        }
      ]
    }
  ]
}